{
 "cells": [
  {
   "cell_type": "code",
   "execution_count": 2,
   "id": "2b37fe6b",
   "metadata": {},
   "outputs": [],
   "source": [
    "import numpy as np"
   ]
  },
  {
   "cell_type": "code",
   "execution_count": 12,
   "id": "b6a8a3a7",
   "metadata": {},
   "outputs": [],
   "source": [
    "array = np.array([[0, 1, 0, 1, 0], [0, 1, 1, 1, 0], [0, 0, 0, 1, 0], [0, 0, 0, 1, 0]])"
   ]
  },
  {
   "cell_type": "code",
   "execution_count": 13,
   "id": "7c0ea966",
   "metadata": {
    "scrolled": false
   },
   "outputs": [
    {
     "data": {
      "text/plain": [
       "array([[0, 1, 0, 1, 0],\n",
       "       [0, 1, 1, 1, 0],\n",
       "       [0, 0, 0, 1, 0],\n",
       "       [0, 0, 0, 1, 0]])"
      ]
     },
     "execution_count": 13,
     "metadata": {},
     "output_type": "execute_result"
    }
   ],
   "source": [
    "array"
   ]
  },
  {
   "cell_type": "code",
   "execution_count": 14,
   "id": "ccac9925",
   "metadata": {},
   "outputs": [
    {
     "data": {
      "text/plain": [
       "(4, 5)"
      ]
     },
     "execution_count": 14,
     "metadata": {},
     "output_type": "execute_result"
    }
   ],
   "source": [
    "array.shape"
   ]
  },
  {
   "cell_type": "code",
   "execution_count": 15,
   "id": "4f573ece",
   "metadata": {},
   "outputs": [
    {
     "data": {
      "text/plain": [
       "array([[0, 0, 0, 0],\n",
       "       [1, 1, 1, 1],\n",
       "       [0, 1, 0, 0],\n",
       "       [1, 1, 0, 0],\n",
       "       [0, 0, 0, 0]])"
      ]
     },
     "execution_count": 15,
     "metadata": {},
     "output_type": "execute_result"
    }
   ],
   "source": [
    "np.rot90(array)"
   ]
  },
  {
   "cell_type": "code",
   "execution_count": 21,
   "id": "726c8a0f",
   "metadata": {},
   "outputs": [
    {
     "data": {
      "text/plain": [
       "(5, 4)"
      ]
     },
     "execution_count": 21,
     "metadata": {},
     "output_type": "execute_result"
    }
   ],
   "source": [
    "np.rot90(array).shape"
   ]
  },
  {
   "cell_type": "code",
   "execution_count": 22,
   "id": "a0a99ebd",
   "metadata": {},
   "outputs": [
    {
     "data": {
      "text/plain": [
       "array([[0, 0, 0, 1, 0],\n",
       "       [0, 0, 0, 1, 0],\n",
       "       [0, 1, 1, 1, 0],\n",
       "       [0, 1, 0, 1, 0]])"
      ]
     },
     "execution_count": 22,
     "metadata": {},
     "output_type": "execute_result"
    }
   ],
   "source": [
    "np.flipud(array)"
   ]
  },
  {
   "cell_type": "code",
   "execution_count": 1,
   "id": "cfdfa44f",
   "metadata": {},
   "outputs": [],
   "source": [
    "import numpy as np\n",
    "\n",
    "def transform_image(array, shift):\n",
    "    np.random.seed(0)\n",
    "\n",
    "    arrayDict = dict()\n",
    "    arrayDict['rotated'] = np.rot90(array)\n",
    "    arrayDict['flipped'] = np.flipud(array)\n",
    "    arrayDict['rolled'] = np.roll(array, shift, axis=1)\n",
    "    arrayDict['noised'] = array + np.random.normal(0, 0.05, size=array.shape)\n",
    "\n",
    "    return arrayDict"
   ]
  },
  {
   "cell_type": "code",
   "execution_count": 2,
   "id": "eec60526",
   "metadata": {},
   "outputs": [],
   "source": [
    "array = np.array([[0, 1, 0, 1, 0], [0, 1, 1, 1, 0], [0, 0, 0, 1, 0], [0, 0, 0, 1, 0]])"
   ]
  },
  {
   "cell_type": "code",
   "execution_count": 3,
   "id": "6d1f75b3",
   "metadata": {
    "scrolled": false
   },
   "outputs": [
    {
     "data": {
      "text/plain": [
       "array([[0, 1, 0, 1, 0],\n",
       "       [0, 1, 1, 1, 0],\n",
       "       [0, 0, 0, 1, 0],\n",
       "       [0, 0, 0, 1, 0]])"
      ]
     },
     "execution_count": 3,
     "metadata": {},
     "output_type": "execute_result"
    }
   ],
   "source": [
    "array"
   ]
  },
  {
   "cell_type": "code",
   "execution_count": 5,
   "id": "3f9b0bd5",
   "metadata": {},
   "outputs": [],
   "source": [
    "d = transform_image(array, 3)"
   ]
  },
  {
   "cell_type": "code",
   "execution_count": 60,
   "id": "b8cf2191",
   "metadata": {},
   "outputs": [
    {
     "data": {
      "text/plain": [
       "array([[0, 0, 0, 0],\n",
       "       [1, 1, 1, 1],\n",
       "       [0, 1, 0, 0],\n",
       "       [1, 1, 0, 0],\n",
       "       [0, 0, 0, 0]])"
      ]
     },
     "execution_count": 60,
     "metadata": {},
     "output_type": "execute_result"
    }
   ],
   "source": [
    "d['rotated']"
   ]
  },
  {
   "cell_type": "code",
   "execution_count": 61,
   "id": "33d7c1da",
   "metadata": {},
   "outputs": [
    {
     "data": {
      "text/plain": [
       "array([[0, 0, 0, 1, 0],\n",
       "       [0, 0, 0, 1, 0],\n",
       "       [0, 1, 1, 1, 0],\n",
       "       [0, 1, 0, 1, 0]])"
      ]
     },
     "execution_count": 61,
     "metadata": {},
     "output_type": "execute_result"
    }
   ],
   "source": [
    "d['flipped']"
   ]
  },
  {
   "cell_type": "code",
   "execution_count": 62,
   "id": "f35e326a",
   "metadata": {},
   "outputs": [
    {
     "data": {
      "text/plain": [
       "array([[0, 1, 0, 0, 1],\n",
       "       [1, 1, 0, 0, 1],\n",
       "       [0, 1, 0, 0, 0],\n",
       "       [0, 1, 0, 0, 0]])"
      ]
     },
     "execution_count": 62,
     "metadata": {},
     "output_type": "execute_result"
    }
   ],
   "source": [
    "d['rolled']"
   ]
  },
  {
   "cell_type": "code",
   "execution_count": 37,
   "id": "8b0c2bf1",
   "metadata": {},
   "outputs": [],
   "source": [
    "def solution(S):\n",
    "    count = 1\n",
    "    temp = set()\n",
    "    for char in S:\n",
    "        if char in temp:\n",
    "            temp = set(char)\n",
    "            count += 1\n",
    "        else:\n",
    "            temp.add(char)\n",
    "\n",
    "    return count"
   ]
  },
  {
   "cell_type": "code",
   "execution_count": 38,
   "id": "04dc217b",
   "metadata": {},
   "outputs": [
    {
     "data": {
      "text/plain": [
       "1"
      ]
     },
     "execution_count": 38,
     "metadata": {},
     "output_type": "execute_result"
    }
   ],
   "source": [
    "solution('world')"
   ]
  },
  {
   "cell_type": "code",
   "execution_count": 39,
   "id": "ae7c5d7d",
   "metadata": {},
   "outputs": [
    {
     "data": {
      "text/plain": [
       "3"
      ]
     },
     "execution_count": 39,
     "metadata": {},
     "output_type": "execute_result"
    }
   ],
   "source": [
    "solution('ddd')"
   ]
  },
  {
   "cell_type": "code",
   "execution_count": 42,
   "id": "549c9fdf",
   "metadata": {},
   "outputs": [
    {
     "data": {
      "text/plain": [
       "2"
      ]
     },
     "execution_count": 42,
     "metadata": {},
     "output_type": "execute_result"
    }
   ],
   "source": [
    "solution('abbs')"
   ]
  },
  {
   "cell_type": "code",
   "execution_count": 77,
   "id": "bff1ef12",
   "metadata": {},
   "outputs": [],
   "source": [
    "s = 'id,name,age,score\\n1,Jack,NULL,12\\n17Betty,28,11'"
   ]
  },
  {
   "cell_type": "code",
   "execution_count": 78,
   "id": "f27f2950",
   "metadata": {},
   "outputs": [
    {
     "data": {
      "text/plain": [
       "['id,name,age,score', '1,Jack,NULL,12', '17Betty,28,11']"
      ]
     },
     "execution_count": 78,
     "metadata": {},
     "output_type": "execute_result"
    }
   ],
   "source": [
    "data = s.split('\\n')\n",
    "data"
   ]
  },
  {
   "cell_type": "code",
   "execution_count": 79,
   "id": "e1d6d825",
   "metadata": {},
   "outputs": [
    {
     "data": {
      "text/plain": [
       "['id,name,age,score', '1,Jack,NULL,12', '17Betty,28,11']"
      ]
     },
     "execution_count": 79,
     "metadata": {},
     "output_type": "execute_result"
    }
   ],
   "source": [
    "data = s.split()\n",
    "data"
   ]
  },
  {
   "cell_type": "code",
   "execution_count": 59,
   "id": "770045e5",
   "metadata": {},
   "outputs": [],
   "source": [
    "dropnull = ''"
   ]
  },
  {
   "cell_type": "code",
   "execution_count": 60,
   "id": "b8afc0cf",
   "metadata": {},
   "outputs": [],
   "source": [
    "for row in data:\n",
    "    if ',NULL,' not in row:\n",
    "        dropnull = dropnull + row + '\\n'"
   ]
  },
  {
   "cell_type": "code",
   "execution_count": 63,
   "id": "c245858e",
   "metadata": {},
   "outputs": [
    {
     "data": {
      "text/plain": [
       "'id,name,age,score\\n17,Betty,28,11\\n'"
      ]
     },
     "execution_count": 63,
     "metadata": {},
     "output_type": "execute_result"
    }
   ],
   "source": [
    "dropnull"
   ]
  },
  {
   "cell_type": "code",
   "execution_count": 65,
   "id": "6b46deda",
   "metadata": {},
   "outputs": [
    {
     "data": {
      "text/plain": [
       "'id,name,age,score\\n17,Betty,28,11'"
      ]
     },
     "execution_count": 65,
     "metadata": {},
     "output_type": "execute_result"
    }
   ],
   "source": [
    "dropnull[:-1]"
   ]
  },
  {
   "cell_type": "code",
   "execution_count": null,
   "id": "83697922",
   "metadata": {},
   "outputs": [],
   "source": []
  }
 ],
 "metadata": {
  "kernelspec": {
   "display_name": "Python 3",
   "language": "python",
   "name": "python3"
  },
  "language_info": {
   "codemirror_mode": {
    "name": "ipython",
    "version": 3
   },
   "file_extension": ".py",
   "mimetype": "text/x-python",
   "name": "python",
   "nbconvert_exporter": "python",
   "pygments_lexer": "ipython3",
   "version": "3.6.13"
  }
 },
 "nbformat": 4,
 "nbformat_minor": 5
}
